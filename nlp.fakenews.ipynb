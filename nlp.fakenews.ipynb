{
 "cells": [
  {
   "cell_type": "code",
   "execution_count": 31,
   "id": "62cc493f-67d1-4dd0-9942-fccd7bb9c1ab",
   "metadata": {},
   "outputs": [
    {
     "name": "stderr",
     "output_type": "stream",
     "text": [
      "[nltk_data] Downloading package stopwords to\n",
      "[nltk_data]     C:\\Users\\20109\\AppData\\Roaming\\nltk_data...\n",
      "[nltk_data]   Package stopwords is already up-to-date!\n",
      "[nltk_data] Downloading package wordnet to\n",
      "[nltk_data]     C:\\Users\\20109\\AppData\\Roaming\\nltk_data...\n",
      "[nltk_data]   Package wordnet is already up-to-date!\n"
     ]
    }
   ],
   "source": [
    "import numpy as np \n",
    "import pandas as pd\n",
    "import matplotlib.pyplot as plt\n",
    "import seaborn as sns\n",
    "import nltk\n",
    "import re\n",
    "from nltk.corpus import wordnet\n",
    "from sklearn.model_selection import train_test_split\n",
    "from sklearn.feature_extraction.text import TfidfVectorizer\n",
    "\n",
    "nltk.download('stopwords')\n",
    "nltk.download('wordnet')\n",
    "\n",
    "from nltk.corpus import stopwords\n",
    "from nltk.stem import WordNetLemmatizer\n",
    "from nltk.stem import PorterStemmer\n",
    "from sklearn.ensemble import RandomForestClassifier\n",
    "from sklearn.metrics import classification_report\n",
    "from sklearn.metrics import confusion_matrix"
   ]
  },
  {
   "cell_type": "code",
   "execution_count": 32,
   "id": "aa21b519-6564-4fcf-91d3-01af99ea9f3f",
   "metadata": {},
   "outputs": [],
   "source": [
    "# Select the 5000 from 0 and 5000 from 1 rows using label colums\n",
    "df = pd.read_csv('WELFake_Dataset.csv')\n",
    "df0 = df[df['label'] == 0].sample(5000)\n",
    "df1 = df[df['label'] == 1].sample(5000)\n",
    "df = pd.concat([df0, df1])"
   ]
  },
  {
   "cell_type": "code",
   "execution_count": 33,
   "id": "bf390115-01b0-4a15-9379-9f9ccad6ae2e",
   "metadata": {},
   "outputs": [
    {
     "data": {
      "text/html": [
       "<div>\n",
       "<style scoped>\n",
       "    .dataframe tbody tr th:only-of-type {\n",
       "        vertical-align: middle;\n",
       "    }\n",
       "\n",
       "    .dataframe tbody tr th {\n",
       "        vertical-align: top;\n",
       "    }\n",
       "\n",
       "    .dataframe thead th {\n",
       "        text-align: right;\n",
       "    }\n",
       "</style>\n",
       "<table border=\"1\" class=\"dataframe\">\n",
       "  <thead>\n",
       "    <tr style=\"text-align: right;\">\n",
       "      <th></th>\n",
       "      <th>Unnamed: 0</th>\n",
       "      <th>title</th>\n",
       "      <th>text</th>\n",
       "      <th>label</th>\n",
       "    </tr>\n",
       "  </thead>\n",
       "  <tbody>\n",
       "    <tr>\n",
       "      <th>42761</th>\n",
       "      <td>42761</td>\n",
       "      <td>Syria says military jet downed in northern Ham...</td>\n",
       "      <td>AMMAN (Reuters) - Syria s armed forces said in...</td>\n",
       "      <td>0</td>\n",
       "    </tr>\n",
       "    <tr>\n",
       "      <th>51402</th>\n",
       "      <td>51402</td>\n",
       "      <td>Blasphemy and the law of fanatics</td>\n",
       "      <td>As they went on their rampage, the men who kil...</td>\n",
       "      <td>0</td>\n",
       "    </tr>\n",
       "    <tr>\n",
       "      <th>26268</th>\n",
       "      <td>26268</td>\n",
       "      <td>Obama orders review of 2016 election cyber att...</td>\n",
       "      <td>WASHINGTON (Reuters) - U.S. President Barack O...</td>\n",
       "      <td>0</td>\n",
       "    </tr>\n",
       "    <tr>\n",
       "      <th>52239</th>\n",
       "      <td>52239</td>\n",
       "      <td>U.S. defense chief urges Congress to stick to ...</td>\n",
       "      <td>SEATTLE (Reuters) - U.S. Defense Secretary Ash...</td>\n",
       "      <td>0</td>\n",
       "    </tr>\n",
       "    <tr>\n",
       "      <th>30790</th>\n",
       "      <td>30790</td>\n",
       "      <td>Vatican Invites ‘Population Bomb’ Hoaxer Paul ...</td>\n",
       "      <td>The Vatican has invited the most notorious pop...</td>\n",
       "      <td>0</td>\n",
       "    </tr>\n",
       "  </tbody>\n",
       "</table>\n",
       "</div>"
      ],
      "text/plain": [
       "       Unnamed: 0                                              title  \\\n",
       "42761       42761  Syria says military jet downed in northern Ham...   \n",
       "51402       51402                  Blasphemy and the law of fanatics   \n",
       "26268       26268  Obama orders review of 2016 election cyber att...   \n",
       "52239       52239  U.S. defense chief urges Congress to stick to ...   \n",
       "30790       30790  Vatican Invites ‘Population Bomb’ Hoaxer Paul ...   \n",
       "\n",
       "                                                    text  label  \n",
       "42761  AMMAN (Reuters) - Syria s armed forces said in...      0  \n",
       "51402  As they went on their rampage, the men who kil...      0  \n",
       "26268  WASHINGTON (Reuters) - U.S. President Barack O...      0  \n",
       "52239  SEATTLE (Reuters) - U.S. Defense Secretary Ash...      0  \n",
       "30790  The Vatican has invited the most notorious pop...      0  "
      ]
     },
     "execution_count": 33,
     "metadata": {},
     "output_type": "execute_result"
    }
   ],
   "source": [
    "df.head()"
   ]
  },
  {
   "cell_type": "code",
   "execution_count": 34,
   "id": "f37b8d1f-e5e1-4d00-b5eb-059238ee58e8",
   "metadata": {},
   "outputs": [
    {
     "name": "stdout",
     "output_type": "stream",
     "text": [
      "<class 'pandas.core.frame.DataFrame'>\n",
      "Index: 10000 entries, 42761 to 30915\n",
      "Data columns (total 4 columns):\n",
      " #   Column      Non-Null Count  Dtype \n",
      "---  ------      --------------  ----- \n",
      " 0   Unnamed: 0  10000 non-null  int64 \n",
      " 1   title       9931 non-null   object\n",
      " 2   text        9991 non-null   object\n",
      " 3   label       10000 non-null  int64 \n",
      "dtypes: int64(2), object(2)\n",
      "memory usage: 390.6+ KB\n"
     ]
    }
   ],
   "source": [
    "df.info()"
   ]
  },
  {
   "cell_type": "code",
   "execution_count": 35,
   "id": "aaddb52a-253e-4ee0-aa8c-8ca7a383a373",
   "metadata": {},
   "outputs": [
    {
     "data": {
      "text/plain": [
       "Unnamed: 0     0\n",
       "title         69\n",
       "text           9\n",
       "label          0\n",
       "dtype: int64"
      ]
     },
     "execution_count": 35,
     "metadata": {},
     "output_type": "execute_result"
    }
   ],
   "source": [
    "# Missing data analysis\n",
    "df.isnull().sum()"
   ]
  },
  {
   "cell_type": "code",
   "execution_count": 36,
   "id": "e9976ad6-55bd-4d20-aa91-dfea5785acd6",
   "metadata": {},
   "outputs": [
    {
     "data": {
      "text/plain": [
       "Unnamed: 0    0\n",
       "title         0\n",
       "text          0\n",
       "label         0\n",
       "dtype: int64"
      ]
     },
     "execution_count": 36,
     "metadata": {},
     "output_type": "execute_result"
    }
   ],
   "source": [
    "# Drop NA values\n",
    "df = df.dropna()\n",
    "\n",
    "df.isnull().sum()"
   ]
  },
  {
   "cell_type": "code",
   "execution_count": 37,
   "id": "e731c83d-7450-4dab-b595-b2713845dca7",
   "metadata": {},
   "outputs": [
    {
     "data": {
      "text/plain": [
       "(9922, 4)"
      ]
     },
     "execution_count": 37,
     "metadata": {},
     "output_type": "execute_result"
    }
   ],
   "source": [
    "df.shape"
   ]
  },
  {
   "cell_type": "code",
   "execution_count": 38,
   "id": "d0fc84e8-4888-4426-a811-0902deae5f79",
   "metadata": {},
   "outputs": [
    {
     "data": {
      "text/html": [
       "<div>\n",
       "<style scoped>\n",
       "    .dataframe tbody tr th:only-of-type {\n",
       "        vertical-align: middle;\n",
       "    }\n",
       "\n",
       "    .dataframe tbody tr th {\n",
       "        vertical-align: top;\n",
       "    }\n",
       "\n",
       "    .dataframe thead th {\n",
       "        text-align: right;\n",
       "    }\n",
       "</style>\n",
       "<table border=\"1\" class=\"dataframe\">\n",
       "  <thead>\n",
       "    <tr style=\"text-align: right;\">\n",
       "      <th></th>\n",
       "      <th>title</th>\n",
       "      <th>text</th>\n",
       "      <th>label</th>\n",
       "    </tr>\n",
       "  </thead>\n",
       "  <tbody>\n",
       "    <tr>\n",
       "      <th>42761</th>\n",
       "      <td>Syria says military jet downed in northern Ham...</td>\n",
       "      <td>AMMAN (Reuters) - Syria s armed forces said in...</td>\n",
       "      <td>0</td>\n",
       "    </tr>\n",
       "    <tr>\n",
       "      <th>51402</th>\n",
       "      <td>Blasphemy and the law of fanatics</td>\n",
       "      <td>As they went on their rampage, the men who kil...</td>\n",
       "      <td>0</td>\n",
       "    </tr>\n",
       "    <tr>\n",
       "      <th>26268</th>\n",
       "      <td>Obama orders review of 2016 election cyber att...</td>\n",
       "      <td>WASHINGTON (Reuters) - U.S. President Barack O...</td>\n",
       "      <td>0</td>\n",
       "    </tr>\n",
       "    <tr>\n",
       "      <th>52239</th>\n",
       "      <td>U.S. defense chief urges Congress to stick to ...</td>\n",
       "      <td>SEATTLE (Reuters) - U.S. Defense Secretary Ash...</td>\n",
       "      <td>0</td>\n",
       "    </tr>\n",
       "    <tr>\n",
       "      <th>30790</th>\n",
       "      <td>Vatican Invites ‘Population Bomb’ Hoaxer Paul ...</td>\n",
       "      <td>The Vatican has invited the most notorious pop...</td>\n",
       "      <td>0</td>\n",
       "    </tr>\n",
       "  </tbody>\n",
       "</table>\n",
       "</div>"
      ],
      "text/plain": [
       "                                                   title  \\\n",
       "42761  Syria says military jet downed in northern Ham...   \n",
       "51402                  Blasphemy and the law of fanatics   \n",
       "26268  Obama orders review of 2016 election cyber att...   \n",
       "52239  U.S. defense chief urges Congress to stick to ...   \n",
       "30790  Vatican Invites ‘Population Bomb’ Hoaxer Paul ...   \n",
       "\n",
       "                                                    text  label  \n",
       "42761  AMMAN (Reuters) - Syria s armed forces said in...      0  \n",
       "51402  As they went on their rampage, the men who kil...      0  \n",
       "26268  WASHINGTON (Reuters) - U.S. President Barack O...      0  \n",
       "52239  SEATTLE (Reuters) - U.S. Defense Secretary Ash...      0  \n",
       "30790  The Vatican has invited the most notorious pop...      0  "
      ]
     },
     "execution_count": 38,
     "metadata": {},
     "output_type": "execute_result"
    }
   ],
   "source": [
    "# Drop unused columns\n",
    "df.drop(columns=['Unnamed: 0'],inplace=True)\n",
    "df.head()"
   ]
  },
  {
   "cell_type": "code",
   "execution_count": 39,
   "id": "ad6344a6-97da-420a-b579-a45524deda73",
   "metadata": {},
   "outputs": [
    {
     "data": {
      "text/plain": [
       "<Axes: ylabel='count'>"
      ]
     },
     "execution_count": 39,
     "metadata": {},
     "output_type": "execute_result"
    },
    {
     "data": {
      "image/png": "[encoded data removed]",
      "text/plain": [
       "<Figure size 640x480 with 1 Axes>"
      ]
     },
     "metadata": {},
     "output_type": "display_data"
    }
   ],
   "source": [
    "# Class distribution\n",
    "# 0 - Fake, 1 - Real\n",
    "df['label'].value_counts().plot.pie(autopct='%.2f')"
   ]
  },
  {
   "cell_type": "code",
   "execution_count": 40,
   "id": "225325e8-ed11-4ca0-97e7-dfcbcac38369",
   "metadata": {},
   "outputs": [],
   "source": [
    "# Define X and Y\n",
    "X = df.drop(columns=['label'])\n",
    "y = df['label']"
   ]
  },
  {
   "cell_type": "code",
   "execution_count": 41,
   "id": "ec7569d6-52f0-4038-9abc-9917a910c3ad",
   "metadata": {},
   "outputs": [],
   "source": [
    "messages = X.copy()\n",
    "\n",
    "messages.reset_index(inplace=True)\n"
   ]
  },
  {
   "cell_type": "code",
   "execution_count": 42,
   "id": "e1d03296-b689-4223-80c7-bfe42f6a30a0",
   "metadata": {},
   "outputs": [],
   "source": [
    "# Initialize the lemmatizer and stemmer\n",
    "lm = WordNetLemmatizer().\n",
    "ps = PorterStemmer()\n",
    "\n",
    "# Initialize an empty list to store the cleaned messages\n",
    "corpus = []\n",
    "\n",
    "\n",
    "for i in range(len(messages)):\n",
    "    review = re.sub('[^a-zA-Z0-9]',' ',messages['text'][i])\n",
    "    review = review.lower()\n",
    "    review = review.split()\n",
    "    review = [ps.stem(x) for x in review if x not in stopwords.words('english')]\n",
    "    review = \" \".join(review)\n",
    "    corpus.append(review)"
   ]
  },
  {
   "cell_type": "code",
   "execution_count": 43,
   "id": "1832095c-755f-4ca7-b8b8-7b646a8c7771",
   "metadata": {},
   "outputs": [],
   "source": [
    "# Initialize the lemmatizer and stemmer\n",
    "lm = WordNetLemmatizer()\n",
    "ps = PorterStemmer()\n",
    "\n",
    "# Initialize an empty list to store the cleaned messages\n",
    "corpus = []\n",
    "\n",
    "\n",
    "for i in range(len(messages)):\n",
    "    review = re.sub('[^a-zA-Z0-9]',' ',messages['text'][i])\n",
    "    review = review.lower()\n",
    "    review = review.split()\n",
    "    review = [ps.stem(x) for x in review if x not in stopwords.words('english')]\n",
    "    review = \" \".join(review)\n",
    "    corpus.append(review)"
   ]
  },
  {
   "cell_type": "code",
   "execution_count": 45,
   "id": "1e8cd953-b629-4d7f-bca0-b8814489eb8b",
   "metadata": {},
   "outputs": [
    {
     "data": {
      "text/plain": [
       "['amman reuter syria arm forc said insurg down militari jet northern hama provinc tuesday kill pilot milit group tahrir al sham fight forc domin member al qaeda former branch syria said hit plane sourc said milit search anoth pilot believ surviv crash syria air forc armi support russian air power iranian back militia step offens hama recent week push north toward rebel stronghold idlib aid worker wit say dozen civilian kill town villag away front line',\n",
       " 'went rampag men kill 12 peopl pari week yell aveng prophet follow path terrorist bomb newspap offic stab filmmak kill writer translat mete believ proper koran punish blasphemi fact koran prescrib punish blasphemi like mani fanat violent aspect islam terror today idea islam requir insult prophet muhammad met violenc creation politician cleric serv polit agenda one holi book deepli concern blasphemi bibl old testament blasphemi blasphem condemn prescrib harsh punish best known passag leviticu 24 16 anyon blasphem name lord put death entir assembl must stone whether foreign nativ born blasphem name put death contrast word blasphemi appear nowher koran incident koran anywher forbid creat imag muhammad though commentari tradit hadith guard idol worship islam scholar maulana wahiduddin khan point 200 vers koran reveal contemporari prophet repeatedli perpetr act call blasphemi abus prophet nowher koran prescrib punish lash death physic punish sever occas muhammad treat peopl ridicul teach understand kind islam khan say blasphemi subject intellectu discuss rather subject physic punish somebodi forgot tell terrorist gruesom bloodi belief jihadi adopt common muslim world even among call moder muslim blasphemi apostasi grievou crime islam punish fierc mani muslim major countri law blasphemi apostasi place enforc pakistan poster child anti blasphemi campaign gone wild march least 14 peopl death row countri 19 serv life sentenc accord u commiss intern religi freedom owner countri largest media group sentenc 26 year prison one channel broadcast devot song muhammad daughter reenact wed realli pakistan alon bangladesh malaysia egypt turkey sudan use blasphemi law jail harass peopl moder indonesia 120 peopl detain reason sinc 2003 saudi arabia forbid practic religion wahhabi version islam pakistani case instruct extrem version anti blasphemi law rel recent product polit moham zia ul haq pakistan presid late 1970 1980 want margin democrat liber opposit embrac islam fundamentalist matter extrem pass seri law islam pakistan includ law recommend death penalti life imprison insult muhammad way govern tri curri favor fanat eventu fanat take law hand pakistan jihadi kill dozen peopl accus blasphemi includ brave politician salmaan taseer dare call blasphemi law black law fight terror also fight sourc problem enough muslim leader condemn peopl kill consid blasphem govern endors idea punish blasphemi time u religi freedom commiss u n human right committe declar blasphemi law violat univers human right violat freedom speech express correct muslim major countri one dare dial back law western countri one confront alli issu blasphemi pure domest matter concern worri countri intern affair sit bloodi crossroad radic islamist western societi cannot avoid anymor western politician muslim leader intellectu everywher point blasphemi someth exist koran exist modern world read fare zakaria archiv follow twitter subscrib updat facebook',\n",
       " 'washington reuter u presid barack obama order intellig agenc review cyber attack foreign intervent 2016 elect deliv report leav offic jan 20 white hous said friday octob u govern formal accus russia campaign cyber attack democrat parti organ ahead nov 8 presidenti elect obama said warn russian presid vladimir putin consequ attack review timelin signal obama want issu address hand power presid elect donald trump cast doubt russia hack role prais putin campaign obama homeland secur advis lisa monaco told report report result would share lawmak other presid direct intellig commun conduct full review happen 2016 elect process captur lesson learn report rang stakehold includ congress said event host christian scienc monitor white hous spokesman eric schultz said review would deep dive would look pattern behavior sever year elect time date far back 2008 presidenti elect note obama want review complet watch major prioriti schultz said campaign white hous trump call russia dig miss email oppon hillari clinton time secretari state obama fellow democrat move prompt critic accus encourag foreign actor conduct espionag new york businessman said convinc russia behind attack believ interf trump told time magazin russia interview publish week becam laugh point talk point laugh point time someth say oh russia interf peopl trump nomin top nation secur post new administr taken harsher stanc toward moscow russian offici deni accus interfer u elect obama come pressur democrat lawmak declassifi intellig alleg hack govern sourc said review spark part respond demand well determin much materi relat subject could made public given presid elect trump disturb refus listen intellig commun accept hack orchestr kremlin ad urgenc need thorough review presid obama leav offic next month rep adam schiff california senior democrat hous intellig committe said statement monaco said cyber attack new might cross new threshold year work senior feder bureau investig offici 2008 said agenc alert presidenti campaign senat obama republican senat john mccain china infiltr respect system seen 2008 last elect system malici cyber activ monaco said ask trump transit team concern enough russia influenc elect threat unit state infecti diseas outbreak monaco said soon say note met successor trump team yet name one',\n",
       " 'seattl reuter u defens secretari ash carter thursday urg congress stick bipartisan budget agreement lock spend level fiscal 2016 2017 warn reopen deal would lead ineffici could rais concern oversea carter told militari leader industri event host microsoft corp depart defens need greater stabil plan spend level prepar complex challeng face around world got come togeth washington break gridlock import function fund feder govern carter said go everi fiscal year chao continu resolut money waster caus us manag ineffici carter said worri congress could undermin two year budget agreement set fund level fiscal year one begin oct 1 realli hope bipartisan budget agreement stick carter said note even difficult maintain deal presidenti elect year u defens offici worri republican move add fund pentagon fiscal 2017 budget plan could jeopard budget deal carter said turbul caus recent budget battl help manag pentagon gave alli potenti enemi fals impress u militari disarray actual invest well overal',\n",
       " 'vatican invit notori popul alarmist recent histori speak upcom confer titl biolog extinct confer sponsor jointli pontif academi scienc pontif academi social scienc address issu biodivers great extinct histori popul demograph dr paul r ehrlich defend mass steril abort infanticid speak caus pathway biodivers loss consumpt prefer popul number technolog ecosystem product allow women mani children want ehrlich said like let peopl throw much garbag neighbor backyard want ehrlich becam famou public 1968 doomsday bestsel popul bomb gener mass hysteria futur world earth abil sustain human life book ehrlich launch seri frighten predict turn spectacularli wrong creat myth unsustain popul growth prophesi hundr million would starv death 1970 65 million would american india doom odd fair england exist year 2000 ehrlich conclud sometim next 15 year end come mean utter breakdown capac planet support human mankind stood brink armageddon book propos way feed exponenti increas world popul open line set tone whole work battl feed human despit ehrlich utter failur predict human abil feed theori dust vatican late februari brochur upcom workshop vatican assert ehrlichian doomspeak earth cannot sustain desir enhanc consumpt human present use 156 percent earth sustain capac everi year text contend therefor essenti address question whether earth system abl support demand human make global inequ poverti relat confer also featur speaker environment advocaci group call global footprint network gfn year calcul day year avail resourc supposedli run mankind begin overconsum natur use ecolog resourc servic natur regener overfish overharvest forest emit carbon dioxid atmospher forest sequest group exclaim websit august 8 2016 use much natur planet renew whole year gfn announc last summer brochur pontif academi make counterintuit claim biodivers mean everyth human race proceed acknowledg 103 speci plant estim 425 000 speci produc 90 percent food worldwid moreov three kind grain maiz rice wheat produc 60 percent total text note sinc none speci danger extinct one wonder biodivers mean everyth human vatican would wish showcas purveyor debunk apocalypt theori anybodi guess certainli cannot bode well relationship faith scienc follow thoma william twitter follow tdwilliamsrom',\n",
       " 'pari reuter french presid francoi holland wednesday congratul donald trump shock victori u presidenti elect warn result would open period uncertainti congratul natur two democrat head state said holland american elect open period uncertainti franc would vigil frank talk new administr intern issu said ad trump victori show franc need stronger europ need unit presidenti offici said holland spoken german chancellor angela merkel make declar',\n",
       " 'washington presid barack obama took aim tuesday republican presidenti front runner donald trump accus critic play hand islam state speech meant cement legaci set posit tone final year offic obama deliv last annual state union speech congress presid call leader fix u polit critic candid trump use anti muslim rhetor betray american valu politician insult muslim make us safer said draw applaus crowd hous repres chamber wrong diminish us eye world make harder achiev goal trump obama mention name speech lead republican field ahead nov 8 elect pick next presid billionair businessman cite nation secur concern call temporari ban muslim enter unit state wall u border mexico stop flow illeg immigr idea white hous strongli oppos obama sought contrast optimist view america futur republican candid tri replac said fiction describ countri econom declin acknowledg al qaeda islam state pose direct threat american said compar effort defeat milit control swath iraq syria world war three gave group want mass fighter back pickup truck twist soul plot apart garag pose enorm danger civilian stop threaten nation exist obama said republican say presid strategi defeat islam state flaw insuffici polici work answer defeat isi republican hous repres speaker paul ryan said statement speech use acronym islam state obama address lawmak cabinet member suprem court justic one last remain chanc captur attent million american novemb elect next presid take offic januari 2017 trump post twitter call speech bore lack substanc new leadership fast south carolina governor nikki haley deliv republican respons obama address took jab trump less moder candid parti anxiou time tempt follow siren call angriest voic must resist temptat said haley daughter indian immigr one will work hard abid law love tradit ever feel unwelcom countri said obama address came 10 sailor aboard two u navi boat taken iranian custodi iran told unit state crew member would promptli return u offici said event gave republican fodder critic obama nuclear deal tehran obama address issu speech white hous expect situat resolv quickli obama constitut bar third term stuck theme hope defin legaci includ last year nuclear pact tehran note area compromis possibl republican congress includ crimin justic reform trade poverti reduct call lawmak ratifi pacif trade pact advanc tighter gun law lift embargo cuba presid also said regret abl elev u polit discours time offic one regret presid rancor suspicion parti gotten wors instead better said help fix u polit obama press end gerrymand practic draw vote district way give advantag particular parti reduc influenc dark money polit spend fund sourc disclos make vote easier obama also said task vice presid joe biden whose son die last year cancer lead effort find cure diseas presid note outstand promis 2008 campaign pledg continu work close u prison guantanamo bay cuba call congress lift embargo communist rule island nation obama whose 2008 victori driven partial opposit iraq war said unit state could serv policeman world also tri take rebuild everi countri fall crisi even done best intent said lesson vietnam lesson iraq learn obama eager democrat win white hous preserv legaci anger polici fear secur threat help push non tradit candid fore republican lesser extent democrat race succeed trump senat ted cruz texa top republican field self describ socialist berni sander u senat vermont give former secretari state hillari clinton tough competit earli vote state democrat primari contest',\n",
       " 'harar reuter crowd zimbabwean boo jeer presid robert mugab motorcad left blue roof resid harar saturday reuter wit said clear whether mugab motorcad head',\n",
       " 'washington reuter republican leader desper seek way derail presidenti campaign billionair donald trump mani parti 31 state governor stay fray new mexico governor susana martinez endors marco rubio friday make 10th governor back one four republican presidenti rival left race much typic governor rick scott florida said thursday would endors candid state hotli contest march 15 primari reluct commit contrast sharpli previou elect governor line solidli behind eventu nomine help winnow field candid earli 2016 elect differ chaotic race divid republican convinc mani keep low profil hope avoid possibl backlash voter increasingli contemptu parti leader republican offici say lose lose polit situat said fergu cullen former new hampshir republican parti chairman new jersey governor chri christi last week took risk drop presidenti contest endors trump billionair businessman decis done littl either accord new poll almost two third 1 372 adult poll republican democrat said christi endors made differ feel toward trump republican front runner nationwid reuter ipso poll conduct feb 29 march 4 christi face relentless critic sinc announc support trump last week six newspap home state call resign past elect governor endors could produc burst posit news coverag support well connect local leader presidenti contend would encourag elect offici endors candid well creat impress candid favorit knew best encourag other drop race said david karol univers maryland polit scienc professor found endors strong predictor elector success 1980 2004 absenc governor late process realli indic paralysi divis republican elit circl karol said ahead elect day nov 8 mani governor want talk trump unnerv parti establish abras tone polici posit includ plan build wall u mexican border deport 11 million illeg immigr temporarili bar muslim enter countri eighteen undecid republican governor contact reuter declin interview view race nation republican leader struggl strategi stop trump becom nomine democrat revel chao hope boost chanc keep white hous georg w bush elect presid 2000 support 26 parti 30 republican governor primari vote even start accord figur compil jame madison univers polit scienc professor martin cohen karol co author parti decid presidenti nomin reform 2012 10 29 republican governor endors mitt romney time clinch presidenti nomin year governor send clear signal voter five endors rubio senat florida one nomin contest far two endors john kasich ohio governor left race contest two trump one back senat ted cruz texa three other endors candid sinc drop race governor made endors far littl impact rubio lost tennesse south carolina arkansa despit back governor state kasich got 4 percent vote alabama tuesday state governor robert bentley endors iowa governor terri branstad call voter state reject cruz state februari caucus cruz far texa governor greg abbott pick winner endors cruz texa tuesday trump put mani governor difficult posit real estat develop expect easili win mississippi republican primari next tuesday exampl support plan parenthood govern back health insur among polici put odd conserv posit back governor phil bryant bryant support trump end parti nomine decid whether endors candid primari aid told reuter theori governor posit shape outcom year nomin contest republican state level deliv tax cut abort restrict conserv victori main arizona counterpart charg congress lock stalem democrat presid barack obama plethora establish mind candid year made difficult governor senior offici decid back let alon tri shape outcom endors republican governor maryland florida wyom indiana wisconsin north dakota south dakota arizona nebraska michigan declin say whether would back trump parti nomine governor utah oklahoma north carolina georgia yet endors candid would back trump nomin aid said massachusett governor charli baker told report week would vote trump novemb addit report nick carey sharon bernstein ian simpson alex dobuzinski scott malon edit kevin drawbaugh howard goller alistair bell articl fund part sap independ creat reuter editori staff sap editori involv creation product',\n",
       " 'washington reuter mitch mcconnel u senat top republican clung slim hope tuesday parti could still dismantl obamacar despit adequ support repeal bill face possibl anoth failur make good 7 year old pledg roll back healthcar law mcconnel told senat debat healthcar would continu said noth whether would bring repeal bill vote leav open option let measur simpli die firm vote cannot nail republican vow year get rid 2010 afford care act obamacar sept 30 deadlin pass bill simpl major face much tougher path toward dismantl senat susan collin rebuf intens lobbi fellow republican promis money state decid monday oppos like doom latest effort repeal obamacar blow presid donald trump made undo democrat former presid barack obama signatur healthcar law top prioriti sinc 2016 campaign pressur collin call monday republican hold slim 52 48 major senat least two republican senat john mccain rand paul alreadi reject bill vote mccain collin anoth republican lisa murkowski kill effort senat undo obamacar juli obamacar extend health insur 20 million american mani republican believ unwarr costli govern intrus healthcar also oppos tax impos wealthi mcconnel open senat tuesday prais measur sponsor republican senat lindsey graham bill cassidi said contrast sharpli democrat propos singl payer healthcar import debat countri mcconnel said one certainli continu graham cassidi bill would take feder money spent medicaid program poor disabl well subsidi help american buy privat insur divvi state block grant one main complaint oppon bill would mean sweep cut fund medicaid']"
      ]
     },
     "execution_count": 45,
     "metadata": {},
     "output_type": "execute_result"
    }
   ],
   "source": [
    "corpus[0:10]"
   ]
  },
  {
   "cell_type": "code",
   "execution_count": 46,
   "id": "b8815fc7-df3e-4a97-8312-7d766eace40b",
   "metadata": {},
   "outputs": [
    {
     "name": "stdout",
     "output_type": "stream",
     "text": [
      "3108151\n"
     ]
    }
   ],
   "source": [
    "print(sum(len(sentence.split()) for sentence in corpus))"
   ]
  },
  {
   "cell_type": "code",
   "execution_count": 47,
   "id": "0ed035b7-e323-47e4-be33-be81ea6b4c83",
   "metadata": {},
   "outputs": [
    {
     "name": "stdout",
     "output_type": "stream",
     "text": [
      "Maximum sentence length: 8146\n"
     ]
    }
   ],
   "source": [
    "max_length = max(len(sentence.split()) for sentence in corpus)\n",
    "\n",
    "print(\"Maximum sentence length:\", max_length)"
   ]
  },
  {
   "cell_type": "code",
   "execution_count": 48,
   "id": "b174a144-1cbb-4360-9877-e8325cd74408",
   "metadata": {},
   "outputs": [
    {
     "data": {
      "text/plain": [
       "9922"
      ]
     },
     "execution_count": 48,
     "metadata": {},
     "output_type": "execute_result"
    }
   ],
   "source": [
    "len(corpus)"
   ]
  },
  {
   "cell_type": "code",
   "execution_count": 49,
   "id": "6656eec0-1e79-4112-9c13-fcfc4fcc2680",
   "metadata": {},
   "outputs": [],
   "source": [
    "# TF-IDF Vectorizer\n",
    "\n",
    "tf = TfidfVectorizer(max_features=5000, ngram_range=(1,3))\n",
    "x=tf.fit_transform(corpus).toarray()"
   ]
  },
  {
   "cell_type": "code",
   "execution_count": 50,
   "id": "6f765e96-9693-4ae5-ba6f-eb75187bb566",
   "metadata": {},
   "outputs": [
    {
     "data": {
      "text/plain": [
       "42761    0\n",
       "51402    0\n",
       "26268    0\n",
       "52239    0\n",
       "30790    0\n",
       "Name: label, dtype: int64"
      ]
     },
     "execution_count": 50,
     "metadata": {},
     "output_type": "execute_result"
    }
   ],
   "source": [
    "y = df[\"label\"]\n",
    "y.head()"
   ]
  },
  {
   "cell_type": "code",
   "execution_count": 25,
   "id": "536a663c-336f-4472-a0e1-a93934c8751d",
   "metadata": {},
   "outputs": [
    {
     "data": {
      "text/plain": [
       "array([[0., 0., 0., ..., 0., 0., 0.],\n",
       "       [0., 0., 0., ..., 0., 0., 0.],\n",
       "       [0., 0., 0., ..., 0., 0., 0.],\n",
       "       [0., 0., 0., ..., 0., 0., 0.],\n",
       "       [0., 0., 0., ..., 0., 0., 0.]])"
      ]
     },
     "execution_count": 25,
     "metadata": {},
     "output_type": "execute_result"
    }
   ],
   "source": [
    "x[0:5]"
   ]
  },
  {
   "cell_type": "code",
   "execution_count": 51,
   "id": "695d3e2e-eabb-450c-b282-bc6af2e8431e",
   "metadata": {},
   "outputs": [],
   "source": [
    "# Splitting into train and test sets\n",
    "\n",
    "X_train,X_test,y_train,y_test = train_test_split(x,y,test_size=0.2,random_state=42,stratify=y)"
   ]
  },
  {
   "cell_type": "code",
   "execution_count": 52,
   "id": "bf5bcad3-ab1b-4d92-ae49-c3ccbb24511e",
   "metadata": {},
   "outputs": [
    {
     "data": {
      "text/html": [
       "<style>#sk-container-id-2 {color: black;}#sk-container-id-2 pre{padding: 0;}#sk-container-id-2 div.sk-toggleable {background-color: white;}#sk-container-id-2 label.sk-toggleable__label {cursor: pointer;display: block;width: 100%;margin-bottom: 0;padding: 0.3em;box-sizing: border-box;text-align: center;}#sk-container-id-2 label.sk-toggleable__label-arrow:before {content: \"▸\";float: left;margin-right: 0.25em;color: #696969;}#sk-container-id-2 label.sk-toggleable__label-arrow:hover:before {color: black;}#sk-container-id-2 div.sk-estimator:hover label.sk-toggleable__label-arrow:before {color: black;}#sk-container-id-2 div.sk-toggleable__content {max-height: 0;max-width: 0;overflow: hidden;text-align: left;background-color: #f0f8ff;}#sk-container-id-2 div.sk-toggleable__content pre {margin: 0.2em;color: black;border-radius: 0.25em;background-color: #f0f8ff;}#sk-container-id-2 input.sk-toggleable__control:checked~div.sk-toggleable__content {max-height: 200px;max-width: 100%;overflow: auto;}#sk-container-id-2 input.sk-toggleable__control:checked~label.sk-toggleable__label-arrow:before {content: \"▾\";}#sk-container-id-2 div.sk-estimator input.sk-toggleable__control:checked~label.sk-toggleable__label {background-color: #d4ebff;}#sk-container-id-2 div.sk-label input.sk-toggleable__control:checked~label.sk-toggleable__label {background-color: #d4ebff;}#sk-container-id-2 input.sk-hidden--visually {border: 0;clip: rect(1px 1px 1px 1px);clip: rect(1px, 1px, 1px, 1px);height: 1px;margin: -1px;overflow: hidden;padding: 0;position: absolute;width: 1px;}#sk-container-id-2 div.sk-estimator {font-family: monospace;background-color: #f0f8ff;border: 1px dotted black;border-radius: 0.25em;box-sizing: border-box;margin-bottom: 0.5em;}#sk-container-id-2 div.sk-estimator:hover {background-color: #d4ebff;}#sk-container-id-2 div.sk-parallel-item::after {content: \"\";width: 100%;border-bottom: 1px solid gray;flex-grow: 1;}#sk-container-id-2 div.sk-label:hover label.sk-toggleable__label {background-color: #d4ebff;}#sk-container-id-2 div.sk-serial::before {content: \"\";position: absolute;border-left: 1px solid gray;box-sizing: border-box;top: 0;bottom: 0;left: 50%;z-index: 0;}#sk-container-id-2 div.sk-serial {display: flex;flex-direction: column;align-items: center;background-color: white;padding-right: 0.2em;padding-left: 0.2em;position: relative;}#sk-container-id-2 div.sk-item {position: relative;z-index: 1;}#sk-container-id-2 div.sk-parallel {display: flex;align-items: stretch;justify-content: center;background-color: white;position: relative;}#sk-container-id-2 div.sk-item::before, #sk-container-id-2 div.sk-parallel-item::before {content: \"\";position: absolute;border-left: 1px solid gray;box-sizing: border-box;top: 0;bottom: 0;left: 50%;z-index: -1;}#sk-container-id-2 div.sk-parallel-item {display: flex;flex-direction: column;z-index: 1;position: relative;background-color: white;}#sk-container-id-2 div.sk-parallel-item:first-child::after {align-self: flex-end;width: 50%;}#sk-container-id-2 div.sk-parallel-item:last-child::after {align-self: flex-start;width: 50%;}#sk-container-id-2 div.sk-parallel-item:only-child::after {width: 0;}#sk-container-id-2 div.sk-dashed-wrapped {border: 1px dashed gray;margin: 0 0.4em 0.5em 0.4em;box-sizing: border-box;padding-bottom: 0.4em;background-color: white;}#sk-container-id-2 div.sk-label label {font-family: monospace;font-weight: bold;display: inline-block;line-height: 1.2em;}#sk-container-id-2 div.sk-label-container {text-align: center;}#sk-container-id-2 div.sk-container {/* jupyter's `normalize.less` sets `[hidden] { display: none; }` but bootstrap.min.css set `[hidden] { display: none !important; }` so we also need the `!important` here to be able to override the default hidden behavior on the sphinx rendered scikit-learn.org. See: https://github.com/scikit-learn/scikit-learn/issues/21755 */display: inline-block !important;position: relative;}#sk-container-id-2 div.sk-text-repr-fallback {display: none;}</style><div id=\"sk-container-id-2\" class=\"sk-top-container\"><div class=\"sk-text-repr-fallback\"><pre>RandomForestClassifier()</pre><b>In a Jupyter environment, please rerun this cell to show the HTML representation or trust the notebook. <br />On GitHub, the HTML representation is unable to render, please try loading this page with nbviewer.org.</b></div><div class=\"sk-container\" hidden><div class=\"sk-item\"><div class=\"sk-estimator sk-toggleable\"><input class=\"sk-toggleable__control sk-hidden--visually\" id=\"sk-estimator-id-2\" type=\"checkbox\" checked><label for=\"sk-estimator-id-2\" class=\"sk-toggleable__label sk-toggleable__label-arrow\">RandomForestClassifier</label><div class=\"sk-toggleable__content\"><pre>RandomForestClassifier()</pre></div></div></div></div></div>"
      ],
      "text/plain": [
       "RandomForestClassifier()"
      ]
     },
     "execution_count": 52,
     "metadata": {},
     "output_type": "execute_result"
    }
   ],
   "source": [
    "rf = RandomForestClassifier()\n",
    "rf.fit(X_train,y_train)"
   ]
  },
  {
   "cell_type": "code",
   "execution_count": 53,
   "id": "a876bfab-4d04-46be-a053-da443b8c8c57",
   "metadata": {},
   "outputs": [],
   "source": [
    "y_pred=rf.predict(X_test)"
   ]
  },
  {
   "cell_type": "code",
   "execution_count": 54,
   "id": "212b41f8-5284-479b-bc85-5e07fdc950b2",
   "metadata": {},
   "outputs": [
    {
     "name": "stdout",
     "output_type": "stream",
     "text": [
      "              precision    recall  f1-score   support\n",
      "\n",
      "           0     0.9242    0.9140    0.9191      1000\n",
      "           1     0.9137    0.9239    0.9187       985\n",
      "\n",
      "    accuracy                         0.9189      1985\n",
      "   macro avg     0.9189    0.9189    0.9189      1985\n",
      "weighted avg     0.9189    0.9189    0.9189      1985\n",
      "\n"
     ]
    }
   ],
   "source": [
    "print(classification_report(y_test, y_pred, digits=4))"
   ]
  },
  {
   "cell_type": "code",
   "execution_count": 55,
   "id": "2cc9cdf8-6389-4782-b295-7a5fce981dc0",
   "metadata": {},
   "outputs": [
    {
     "data": {
      "image/png": "[encoded data removed]",
      "text/plain": [
       "<Figure size 800x600 with 1 Axes>"
      ]
     },
     "metadata": {},
     "output_type": "display_data"
    }
   ],
   "source": [
    "cm = confusion_matrix(y_test, y_pred)\n",
    "\n",
    "plt.figure(figsize=(8,6))\n",
    "sns.heatmap(cm, annot=True, fmt=\"d\", cmap=\"Blues\", cbar=False, square=True)\n",
    "plt.xlabel('Predicted Class')\n",
    "plt.ylabel('Real Class')\n",
    "plt.show()"
   ]
  },
  {
   "cell_type": "code",
   "execution_count": null,
   "id": "b40f20f9-7756-4bc1-b99d-8547c9dd77d7",
   "metadata": {},
   "outputs": [],
   "source": []
  }
 ],
 "metadata": {
  "kernelspec": {
   "display_name": "Python 3 (ipykernel)",
   "language": "python",
   "name": "python3"
  },
  "language_info": {
   "codemirror_mode": {
    "name": "ipython",
    "version": 3
   },
   "file_extension": ".py",
   "mimetype": "text/x-python",
   "name": "python",
   "nbconvert_exporter": "python",
   "pygments_lexer": "ipython3",
   "version": "3.11.5"
  }
 },
 "nbformat": 4,
 "nbformat_minor": 5
}
